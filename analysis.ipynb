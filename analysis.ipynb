{
 "cells": [
  {
   "cell_type": "code",
   "execution_count": 36,
   "metadata": {},
   "outputs": [],
   "source": [
    "import pandas as pd\n",
    "import matplotlib.pyplot as plt"
   ]
  },
  {
   "cell_type": "code",
   "execution_count": 37,
   "metadata": {},
   "outputs": [],
   "source": [
    "data = pd.read_csv(\"air-passengers.csv\")"
   ]
  },
  {
   "cell_type": "code",
   "execution_count": 38,
   "metadata": {},
   "outputs": [
    {
     "data": {
      "text/html": [
       "<div>\n",
       "<style scoped>\n",
       "    .dataframe tbody tr th:only-of-type {\n",
       "        vertical-align: middle;\n",
       "    }\n",
       "\n",
       "    .dataframe tbody tr th {\n",
       "        vertical-align: top;\n",
       "    }\n",
       "\n",
       "    .dataframe thead th {\n",
       "        text-align: right;\n",
       "    }\n",
       "</style>\n",
       "<table border=\"1\" class=\"dataframe\">\n",
       "  <thead>\n",
       "    <tr style=\"text-align: right;\">\n",
       "      <th></th>\n",
       "      <th>Month</th>\n",
       "      <th>#Passengers</th>\n",
       "    </tr>\n",
       "  </thead>\n",
       "  <tbody>\n",
       "    <tr>\n",
       "      <th>0</th>\n",
       "      <td>1949-01</td>\n",
       "      <td>112</td>\n",
       "    </tr>\n",
       "    <tr>\n",
       "      <th>1</th>\n",
       "      <td>1949-02</td>\n",
       "      <td>118</td>\n",
       "    </tr>\n",
       "    <tr>\n",
       "      <th>2</th>\n",
       "      <td>1949-03</td>\n",
       "      <td>132</td>\n",
       "    </tr>\n",
       "    <tr>\n",
       "      <th>3</th>\n",
       "      <td>1949-04</td>\n",
       "      <td>129</td>\n",
       "    </tr>\n",
       "    <tr>\n",
       "      <th>4</th>\n",
       "      <td>1949-05</td>\n",
       "      <td>121</td>\n",
       "    </tr>\n",
       "  </tbody>\n",
       "</table>\n",
       "</div>"
      ],
      "text/plain": [
       "     Month  #Passengers\n",
       "0  1949-01          112\n",
       "1  1949-02          118\n",
       "2  1949-03          132\n",
       "3  1949-04          129\n",
       "4  1949-05          121"
      ]
     },
     "execution_count": 38,
     "metadata": {},
     "output_type": "execute_result"
    }
   ],
   "source": [
    "data.head()"
   ]
  },
  {
   "cell_type": "code",
   "execution_count": 39,
   "metadata": {},
   "outputs": [
    {
     "data": {
      "text/html": [
       "<div>\n",
       "<style scoped>\n",
       "    .dataframe tbody tr th:only-of-type {\n",
       "        vertical-align: middle;\n",
       "    }\n",
       "\n",
       "    .dataframe tbody tr th {\n",
       "        vertical-align: top;\n",
       "    }\n",
       "\n",
       "    .dataframe thead th {\n",
       "        text-align: right;\n",
       "    }\n",
       "</style>\n",
       "<table border=\"1\" class=\"dataframe\">\n",
       "  <thead>\n",
       "    <tr style=\"text-align: right;\">\n",
       "      <th></th>\n",
       "      <th>#Passengers</th>\n",
       "    </tr>\n",
       "  </thead>\n",
       "  <tbody>\n",
       "    <tr>\n",
       "      <th>count</th>\n",
       "      <td>144.000000</td>\n",
       "    </tr>\n",
       "    <tr>\n",
       "      <th>mean</th>\n",
       "      <td>280.298611</td>\n",
       "    </tr>\n",
       "    <tr>\n",
       "      <th>std</th>\n",
       "      <td>119.966317</td>\n",
       "    </tr>\n",
       "    <tr>\n",
       "      <th>min</th>\n",
       "      <td>104.000000</td>\n",
       "    </tr>\n",
       "    <tr>\n",
       "      <th>25%</th>\n",
       "      <td>180.000000</td>\n",
       "    </tr>\n",
       "    <tr>\n",
       "      <th>50%</th>\n",
       "      <td>265.500000</td>\n",
       "    </tr>\n",
       "    <tr>\n",
       "      <th>75%</th>\n",
       "      <td>360.500000</td>\n",
       "    </tr>\n",
       "    <tr>\n",
       "      <th>max</th>\n",
       "      <td>622.000000</td>\n",
       "    </tr>\n",
       "  </tbody>\n",
       "</table>\n",
       "</div>"
      ],
      "text/plain": [
       "       #Passengers\n",
       "count   144.000000\n",
       "mean    280.298611\n",
       "std     119.966317\n",
       "min     104.000000\n",
       "25%     180.000000\n",
       "50%     265.500000\n",
       "75%     360.500000\n",
       "max     622.000000"
      ]
     },
     "execution_count": 39,
     "metadata": {},
     "output_type": "execute_result"
    }
   ],
   "source": [
    "data.describe()"
   ]
  },
  {
   "cell_type": "code",
   "execution_count": 40,
   "metadata": {},
   "outputs": [
    {
     "data": {
      "image/png": "[encoded data removed]",
      "text/plain": [
       "<Figure size 432x288 with 1 Axes>"
      ]
     },
     "metadata": {
      "needs_background": "light"
     },
     "output_type": "display_data"
    }
   ],
   "source": [
    "plt.plot(data[\"Month\"], data[\"#Passengers\"], label=\"Passenger Count\")\n",
    "plt.title(\"Monthly Passenger Count\")\n",
    "plt.xlabel(\"Month\")\n",
    "plt.ylabel(\"Number of Passengers\")\n",
    "plt.grid(True)\n",
    "plt.show()"
   ]
  },
  {
   "cell_type": "code",
   "execution_count": 41,
   "metadata": {},
   "outputs": [],
   "source": [
    "data[\"Month\"] =  pd.to_datetime(data[\"Month\"])"
   ]
  },
  {
   "cell_type": "code",
   "execution_count": 42,
   "metadata": {},
   "outputs": [
    {
     "name": "stdout",
     "output_type": "stream",
     "text": [
      "<class 'pandas.core.frame.DataFrame'>\n",
      "RangeIndex: 144 entries, 0 to 143\n",
      "Data columns (total 2 columns):\n",
      " #   Column       Non-Null Count  Dtype         \n",
      "---  ------       --------------  -----         \n",
      " 0   Month        144 non-null    datetime64[ns]\n",
      " 1   #Passengers  144 non-null    int64         \n",
      "dtypes: datetime64[ns](1), int64(1)\n",
      "memory usage: 2.4 KB\n"
     ]
    }
   ],
   "source": [
    "data.info()"
   ]
  },
  {
   "cell_type": "code",
   "execution_count": 43,
   "metadata": {},
   "outputs": [],
   "source": [
    "from matplotlib.dates import YearLocator"
   ]
  },
  {
   "cell_type": "code",
   "execution_count": 44,
   "metadata": {},
   "outputs": [
    {
     "data": {
      "image/png": "[encoded data removed]",
      "text/plain": [
       "<Figure size 432x288 with 1 Axes>"
      ]
     },
     "metadata": {
      "needs_background": "light"
     },
     "output_type": "display_data"
    }
   ],
   "source": [
    "plt.plot(data[\"Month\"], data[\"#Passengers\"], label=\"Passenger Count\")\n",
    "plt.title(\"Monthly Passenger Count (5 Year)\")\n",
    "plt.xlabel(\"Month\")\n",
    "plt.ylabel(\"Number of Passengers\")\n",
    "plt.legend()\n",
    "\n",
    "plt.gca().xaxis.set_major_locator(YearLocator(5))\n",
    "\n",
    "plt.grid(True)\n",
    "plt.show()"
   ]
  },
  {
   "cell_type": "code",
   "execution_count": 45,
   "metadata": {},
   "outputs": [],
   "source": [
    "from statsmodels.tsa.stattools import adfuller"
   ]
  },
  {
   "cell_type": "code",
   "execution_count": 46,
   "metadata": {},
   "outputs": [],
   "source": [
    "time_series_data = data[\"#Passengers\"]"
   ]
  },
  {
   "cell_type": "code",
   "execution_count": 47,
   "metadata": {},
   "outputs": [],
   "source": [
    "result = adfuller(time_series_data)"
   ]
  },
  {
   "cell_type": "code",
   "execution_count": 48,
   "metadata": {},
   "outputs": [
    {
     "name": "stdout",
     "output_type": "stream",
     "text": [
      "ADF Statistic 0.8153688792060482\n",
      "p-value 0.991880243437641\n",
      "Critical Values {'1%': -3.4816817173418295, '5%': -2.8840418343195267, '10%': -2.578770059171598}\n"
     ]
    }
   ],
   "source": [
    "print(\"ADF Statistic\", result[0])\n",
    "print(\"p-value\", result[1])\n",
    "print(\"Critical Values\", result[4])"
   ]
  },
  {
   "cell_type": "code",
   "execution_count": 49,
   "metadata": {},
   "outputs": [
    {
     "name": "stdout",
     "output_type": "stream",
     "text": [
      "The data is not stationary\n"
     ]
    }
   ],
   "source": [
    "if result[1] <= 0.05:\n",
    "    print(\"The data is stationary\")\n",
    "else:\n",
    "    print(\"The data is not stationary\") "
   ]
  },
  {
   "cell_type": "code",
   "execution_count": 50,
   "metadata": {},
   "outputs": [],
   "source": [
    "from pmdarima import auto_arima\n",
    "from statsmodels.tsa.arima.model import ARIMA"
   ]
  },
  {
   "cell_type": "code",
   "execution_count": 51,
   "metadata": {},
   "outputs": [],
   "source": [
    "model = auto_arima(time_series_data, suppress_warnings=True, seasonal=False, stepwise = True)"
   ]
  },
  {
   "cell_type": "code",
   "execution_count": 52,
   "metadata": {},
   "outputs": [],
   "source": [
    "order = model.get_params()[\"order\"]"
   ]
  },
  {
   "cell_type": "code",
   "execution_count": 53,
   "metadata": {},
   "outputs": [],
   "source": [
    "arima_model = ARIMA(time_series_data, order=order)"
   ]
  },
  {
   "cell_type": "code",
   "execution_count": 54,
   "metadata": {},
   "outputs": [
    {
     "name": "stderr",
     "output_type": "stream",
     "text": [
      "c:\\Users\\alche\\AppData\\Local\\Programs\\Python\\Python310\\lib\\site-packages\\statsmodels\\tsa\\statespace\\sarimax.py:966: UserWarning: Non-stationary starting autoregressive parameters found. Using zeros as starting parameters.\n",
      "  warn('Non-stationary starting autoregressive parameters'\n",
      "c:\\Users\\alche\\AppData\\Local\\Programs\\Python\\Python310\\lib\\site-packages\\statsmodels\\tsa\\statespace\\sarimax.py:978: UserWarning: Non-invertible starting MA parameters found. Using zeros as starting parameters.\n",
      "  warn('Non-invertible starting MA parameters found.'\n"
     ]
    }
   ],
   "source": [
    "arima_result = arima_model.fit()"
   ]
  },
  {
   "cell_type": "code",
   "execution_count": 55,
   "metadata": {},
   "outputs": [
    {
     "data": {
      "text/html": [
       "<table class=\"simpletable\">\n",
       "<caption>SARIMAX Results</caption>\n",
       "<tr>\n",
       "  <th>Dep. Variable:</th>      <td>#Passengers</td>   <th>  No. Observations:  </th>    <td>144</td>  \n",
       "</tr>\n",
       "<tr>\n",
       "  <th>Model:</th>            <td>ARIMA(4, 1, 3)</td>  <th>  Log Likelihood     </th> <td>-674.913</td>\n",
       "</tr>\n",
       "<tr>\n",
       "  <th>Date:</th>            <td>Mon, 30 Sep 2024</td> <th>  AIC                </th> <td>1365.825</td>\n",
       "</tr>\n",
       "<tr>\n",
       "  <th>Time:</th>                <td>21:22:03</td>     <th>  BIC                </th> <td>1389.528</td>\n",
       "</tr>\n",
       "<tr>\n",
       "  <th>Sample:</th>                  <td>0</td>        <th>  HQIC               </th> <td>1375.457</td>\n",
       "</tr>\n",
       "<tr>\n",
       "  <th></th>                      <td> - 144</td>      <th>                     </th>     <td> </td>   \n",
       "</tr>\n",
       "<tr>\n",
       "  <th>Covariance Type:</th>        <td>opg</td>       <th>                     </th>     <td> </td>   \n",
       "</tr>\n",
       "</table>\n",
       "<table class=\"simpletable\">\n",
       "<tr>\n",
       "     <td></td>       <th>coef</th>     <th>std err</th>      <th>z</th>      <th>P>|z|</th>  <th>[0.025</th>    <th>0.975]</th>  \n",
       "</tr>\n",
       "<tr>\n",
       "  <th>ar.L1</th>  <td>   -0.5582</td> <td>    0.117</td> <td>   -4.782</td> <td> 0.000</td> <td>   -0.787</td> <td>   -0.329</td>\n",
       "</tr>\n",
       "<tr>\n",
       "  <th>ar.L2</th>  <td>    0.4935</td> <td>    0.113</td> <td>    4.375</td> <td> 0.000</td> <td>    0.272</td> <td>    0.715</td>\n",
       "</tr>\n",
       "<tr>\n",
       "  <th>ar.L3</th>  <td>    0.1238</td> <td>    0.128</td> <td>    0.970</td> <td> 0.332</td> <td>   -0.126</td> <td>    0.374</td>\n",
       "</tr>\n",
       "<tr>\n",
       "  <th>ar.L4</th>  <td>   -0.5213</td> <td>    0.085</td> <td>   -6.136</td> <td> 0.000</td> <td>   -0.688</td> <td>   -0.355</td>\n",
       "</tr>\n",
       "<tr>\n",
       "  <th>ma.L1</th>  <td>    0.9069</td> <td>    0.094</td> <td>    9.657</td> <td> 0.000</td> <td>    0.723</td> <td>    1.091</td>\n",
       "</tr>\n",
       "<tr>\n",
       "  <th>ma.L2</th>  <td>   -0.5590</td> <td>    0.145</td> <td>   -3.866</td> <td> 0.000</td> <td>   -0.842</td> <td>   -0.276</td>\n",
       "</tr>\n",
       "<tr>\n",
       "  <th>ma.L3</th>  <td>   -0.7385</td> <td>    0.109</td> <td>   -6.778</td> <td> 0.000</td> <td>   -0.952</td> <td>   -0.525</td>\n",
       "</tr>\n",
       "<tr>\n",
       "  <th>sigma2</th> <td>  724.1721</td> <td>   85.616</td> <td>    8.458</td> <td> 0.000</td> <td>  556.369</td> <td>  891.975</td>\n",
       "</tr>\n",
       "</table>\n",
       "<table class=\"simpletable\">\n",
       "<tr>\n",
       "  <th>Ljung-Box (L1) (Q):</th>     <td>0.37</td> <th>  Jarque-Bera (JB):  </th> <td>14.59</td>\n",
       "</tr>\n",
       "<tr>\n",
       "  <th>Prob(Q):</th>                <td>0.54</td> <th>  Prob(JB):          </th> <td>0.00</td> \n",
       "</tr>\n",
       "<tr>\n",
       "  <th>Heteroskedasticity (H):</th> <td>5.66</td> <th>  Skew:              </th> <td>0.74</td> \n",
       "</tr>\n",
       "<tr>\n",
       "  <th>Prob(H) (two-sided):</th>    <td>0.00</td> <th>  Kurtosis:          </th> <td>3.52</td> \n",
       "</tr>\n",
       "</table><br/><br/>Warnings:<br/>[1] Covariance matrix calculated using the outer product of gradients (complex-step)."
      ],
      "text/latex": [
       "\\begin{center}\n",
       "\\begin{tabular}{lclc}\n",
       "\\toprule\n",
       "\\textbf{Dep. Variable:}          &   \\#Passengers   & \\textbf{  No. Observations:  } &    144      \\\\\n",
       "\\textbf{Model:}                  &  ARIMA(4, 1, 3)  & \\textbf{  Log Likelihood     } &  -674.913   \\\\\n",
       "\\textbf{Date:}                   & Mon, 30 Sep 2024 & \\textbf{  AIC                } &  1365.825   \\\\\n",
       "\\textbf{Time:}                   &     21:22:03     & \\textbf{  BIC                } &  1389.528   \\\\\n",
       "\\textbf{Sample:}                 &        0         & \\textbf{  HQIC               } &  1375.457   \\\\\n",
       "\\textbf{}                        &       - 144      & \\textbf{                     } &             \\\\\n",
       "\\textbf{Covariance Type:}        &       opg        & \\textbf{                     } &             \\\\\n",
       "\\bottomrule\n",
       "\\end{tabular}\n",
       "\\begin{tabular}{lcccccc}\n",
       "                & \\textbf{coef} & \\textbf{std err} & \\textbf{z} & \\textbf{P$> |$z$|$} & \\textbf{[0.025} & \\textbf{0.975]}  \\\\\n",
       "\\midrule\n",
       "\\textbf{ar.L1}  &      -0.5582  &        0.117     &    -4.782  &         0.000        &       -0.787    &       -0.329     \\\\\n",
       "\\textbf{ar.L2}  &       0.4935  &        0.113     &     4.375  &         0.000        &        0.272    &        0.715     \\\\\n",
       "\\textbf{ar.L3}  &       0.1238  &        0.128     &     0.970  &         0.332        &       -0.126    &        0.374     \\\\\n",
       "\\textbf{ar.L4}  &      -0.5213  &        0.085     &    -6.136  &         0.000        &       -0.688    &       -0.355     \\\\\n",
       "\\textbf{ma.L1}  &       0.9069  &        0.094     &     9.657  &         0.000        &        0.723    &        1.091     \\\\\n",
       "\\textbf{ma.L2}  &      -0.5590  &        0.145     &    -3.866  &         0.000        &       -0.842    &       -0.276     \\\\\n",
       "\\textbf{ma.L3}  &      -0.7385  &        0.109     &    -6.778  &         0.000        &       -0.952    &       -0.525     \\\\\n",
       "\\textbf{sigma2} &     724.1721  &       85.616     &     8.458  &         0.000        &      556.369    &      891.975     \\\\\n",
       "\\bottomrule\n",
       "\\end{tabular}\n",
       "\\begin{tabular}{lclc}\n",
       "\\textbf{Ljung-Box (L1) (Q):}     & 0.37 & \\textbf{  Jarque-Bera (JB):  } & 14.59  \\\\\n",
       "\\textbf{Prob(Q):}                & 0.54 & \\textbf{  Prob(JB):          } &  0.00  \\\\\n",
       "\\textbf{Heteroskedasticity (H):} & 5.66 & \\textbf{  Skew:              } &  0.74  \\\\\n",
       "\\textbf{Prob(H) (two-sided):}    & 0.00 & \\textbf{  Kurtosis:          } &  3.52  \\\\\n",
       "\\bottomrule\n",
       "\\end{tabular}\n",
       "%\\caption{SARIMAX Results}\n",
       "\\end{center}\n",
       "\n",
       "Warnings: \\newline\n",
       " [1] Covariance matrix calculated using the outer product of gradients (complex-step)."
      ],
      "text/plain": [
       "<class 'statsmodels.iolib.summary.Summary'>\n",
       "\"\"\"\n",
       "                               SARIMAX Results                                \n",
       "==============================================================================\n",
       "Dep. Variable:            #Passengers   No. Observations:                  144\n",
       "Model:                 ARIMA(4, 1, 3)   Log Likelihood                -674.913\n",
       "Date:                Mon, 30 Sep 2024   AIC                           1365.825\n",
       "Time:                        21:22:03   BIC                           1389.528\n",
       "Sample:                             0   HQIC                          1375.457\n",
       "                                - 144                                         \n",
       "Covariance Type:                  opg                                         \n",
       "==============================================================================\n",
       "                 coef    std err          z      P>|z|      [0.025      0.975]\n",
       "------------------------------------------------------------------------------\n",
       "ar.L1         -0.5582      0.117     -4.782      0.000      -0.787      -0.329\n",
       "ar.L2          0.4935      0.113      4.375      0.000       0.272       0.715\n",
       "ar.L3          0.1238      0.128      0.970      0.332      -0.126       0.374\n",
       "ar.L4         -0.5213      0.085     -6.136      0.000      -0.688      -0.355\n",
       "ma.L1          0.9069      0.094      9.657      0.000       0.723       1.091\n",
       "ma.L2         -0.5590      0.145     -3.866      0.000      -0.842      -0.276\n",
       "ma.L3         -0.7385      0.109     -6.778      0.000      -0.952      -0.525\n",
       "sigma2       724.1721     85.616      8.458      0.000     556.369     891.975\n",
       "===================================================================================\n",
       "Ljung-Box (L1) (Q):                   0.37   Jarque-Bera (JB):                14.59\n",
       "Prob(Q):                              0.54   Prob(JB):                         0.00\n",
       "Heteroskedasticity (H):               5.66   Skew:                             0.74\n",
       "Prob(H) (two-sided):                  0.00   Kurtosis:                         3.52\n",
       "===================================================================================\n",
       "\n",
       "Warnings:\n",
       "[1] Covariance matrix calculated using the outer product of gradients (complex-step).\n",
       "\"\"\""
      ]
     },
     "execution_count": 55,
     "metadata": {},
     "output_type": "execute_result"
    }
   ],
   "source": [
    "arima_result.summary()"
   ]
  },
  {
   "cell_type": "code",
   "execution_count": 56,
   "metadata": {},
   "outputs": [
    {
     "data": {
      "image/png": "[encoded data removed]",
      "text/plain": [
       "<Figure size 432x288 with 1 Axes>"
      ]
     },
     "metadata": {
      "needs_background": "light"
     },
     "output_type": "display_data"
    }
   ],
   "source": [
    "plt.plot(time_series_data, label=\"Original\", color = \"blue\")\n",
    "plt.plot(arima_result.fittedvalues, label=\"Predicted\", color = \"red\")\n",
    "plt.title(\"Original vs Predicted \")\n",
    "plt.xlabel(\"Month\")\n",
    "plt.ylabel(\"Number of Passengers\")\n",
    "plt.grid(True)\n",
    "plt.show()"
   ]
  },
  {
   "cell_type": "code",
   "execution_count": 57,
   "metadata": {},
   "outputs": [],
   "source": [
    "forecast_steps = 24"
   ]
  },
  {
   "cell_type": "code",
   "execution_count": 58,
   "metadata": {},
   "outputs": [],
   "source": [
    "forecast_values = arima_result.get_forecast(steps=forecast_steps).predicted_mean"
   ]
  },
  {
   "cell_type": "code",
   "execution_count": 59,
   "metadata": {},
   "outputs": [
    {
     "ename": "TypeError",
     "evalue": "unsupported operand type(s) for +: 'int' and 'DateOffset'",
     "output_type": "error",
     "traceback": [
      "\u001b[1;31m---------------------------------------------------------------------------\u001b[0m",
      "\u001b[1;31mTypeError\u001b[0m                                 Traceback (most recent call last)",
      "Input \u001b[1;32mIn [59]\u001b[0m, in \u001b[0;36m<cell line: 1>\u001b[1;34m()\u001b[0m\n\u001b[1;32m----> 1\u001b[0m forecast_index \u001b[38;5;241m=\u001b[39m pd\u001b[38;5;241m.\u001b[39mdate_range(start\u001b[38;5;241m=\u001b[39m\u001b[43mtime_series_data\u001b[49m\u001b[38;5;241;43m.\u001b[39;49m\u001b[43mindex\u001b[49m\u001b[43m[\u001b[49m\u001b[38;5;241;43m-\u001b[39;49m\u001b[38;5;241;43m1\u001b[39;49m\u001b[43m]\u001b[49m\u001b[43m \u001b[49m\u001b[38;5;241;43m+\u001b[39;49m\u001b[43m \u001b[49m\u001b[43mpd\u001b[49m\u001b[38;5;241;43m.\u001b[39;49m\u001b[43mDateOffset\u001b[49m\u001b[43m(\u001b[49m\u001b[43mmonths\u001b[49m\u001b[38;5;241;43m=\u001b[39;49m\u001b[38;5;241;43m1\u001b[39;49m\u001b[43m)\u001b[49m, periods\u001b[38;5;241m=\u001b[39mforecast_steps, freq\u001b[38;5;241m=\u001b[39m\u001b[38;5;124m\"\u001b[39m\u001b[38;5;124mM\u001b[39m\u001b[38;5;124m\"\u001b[39m)\n",
      "\u001b[1;31mTypeError\u001b[0m: unsupported operand type(s) for +: 'int' and 'DateOffset'"
     ]
    }
   ],
   "source": [
    "forecast_index = pd.date_range(start=time_series_data.index[-1] + pd.DateOffset(months=1), periods=forecast_steps, freq=\"M\")"
   ]
  },
  {
   "cell_type": "code",
   "execution_count": 60,
   "metadata": {},
   "outputs": [
    {
     "data": {
      "text/plain": [
       "144    467.573854\n",
       "145    490.494660\n",
       "146    509.137041\n",
       "147    492.554843\n",
       "148    495.305996\n",
       "149    475.947800\n",
       "150    476.339824\n",
       "151    475.552131\n",
       "152    472.353843\n",
       "153    483.889708\n",
       "154    475.570242\n",
       "155    485.921587\n",
       "156    479.133670\n",
       "157    480.987475\n",
       "158    482.221433\n",
       "159    476.211065\n",
       "160    483.942850\n",
       "161    475.847399\n",
       "162    482.794303\n",
       "163    479.012004\n",
       "164    479.518685\n",
       "165    482.449494\n",
       "166    476.973995\n",
       "167    483.511063\n",
       "Name: predicted_mean, dtype: float64"
      ]
     },
     "execution_count": 60,
     "metadata": {},
     "output_type": "execute_result"
    }
   ],
   "source": [
    "forecast_values"
   ]
  },
  {
   "cell_type": "code",
   "execution_count": null,
   "metadata": {},
   "outputs": [],
   "source": [
    "plt.plot(time_series_data.index, time_series_data, label=\"Original\", color = \"blue\")\n",
    "plt.plot(forecast_index, forecast_values, label=\"Predicted\", color = \"red\")\n",
    "plt.title(\"Original Time Series with 24-Month Forecast\")\n",
    "plt.xlabel(\"Month\")\n",
    "plt.ylabel(\"Number of Passengers\")\n",
    "plt.legend()\n",
    "plt.grid(True)\n",
    "plt.show()"
   ]
  }
 ],
 "metadata": {
  "kernelspec": {
   "display_name": "Python 3",
   "language": "python",
   "name": "python3"
  },
  "language_info": {
   "codemirror_mode": {
    "name": "ipython",
    "version": 3
   },
   "file_extension": ".py",
   "mimetype": "text/x-python",
   "name": "python",
   "nbconvert_exporter": "python",
   "pygments_lexer": "ipython3",
   "version": "3.10.4"
  }
 },
 "nbformat": 4,
 "nbformat_minor": 2
}
